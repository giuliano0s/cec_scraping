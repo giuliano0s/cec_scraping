{
 "cells": [
  {
   "cell_type": "code",
   "execution_count": 1,
   "metadata": {},
   "outputs": [],
   "source": [
    "from Utils.scrapping_file import Scraping_Class\n",
    "from Utils.constants import *\n",
    "\n",
    "import pandas as pd\n",
    "import numpy as np"
   ]
  },
  {
   "cell_type": "code",
   "execution_count": 2,
   "metadata": {},
   "outputs": [],
   "source": [
    "scraping_class = Scraping_Class()\n",
    "price_steps = [0,50,100,150,200,250,300,500,700,999,1000,3000]"
   ]
  },
  {
   "cell_type": "code",
   "execution_count": 3,
   "metadata": {},
   "outputs": [
    {
     "name": "stdout",
     "output_type": "stream",
     "text": [
      "===========================================================|d|\n",
      "scaning department: baby\n",
      "===============================================|s|\n",
      "scaning sector: alimentacao-do-bebe\n",
      "=========|p|\n",
      "scaning prices: 0 to 50\n",
      "scaning page: 1 of 50\n"
     ]
    },
    {
     "ename": "TypeError",
     "evalue": "scan_products() got an unexpected keyword argument 'range_price'",
     "output_type": "error",
     "traceback": [
      "\u001b[1;31m---------------------------------------------------------------------------\u001b[0m",
      "\u001b[1;31mTypeError\u001b[0m                                 Traceback (most recent call last)",
      "\u001b[1;32m~\\AppData\\Local\\Temp\\ipykernel_1116\\1375256745.py\u001b[0m in \u001b[0;36m<module>\u001b[1;34m\u001b[0m\n\u001b[0;32m     34\u001b[0m                         \u001b[0mrange_price\u001b[0m\u001b[1;33m=\u001b[0m\u001b[1;36m0\u001b[0m\u001b[1;33m\u001b[0m\u001b[1;33m\u001b[0m\u001b[0m\n\u001b[0;32m     35\u001b[0m \u001b[1;33m\u001b[0m\u001b[0m\n\u001b[1;32m---> 36\u001b[1;33m                     \u001b[0mproducts_name\u001b[0m\u001b[1;33m,\u001b[0m \u001b[0mproducts_price_final\u001b[0m\u001b[1;33m,\u001b[0m \u001b[0mproducts_sku\u001b[0m \u001b[1;33m=\u001b[0m \u001b[0mscraping_class\u001b[0m\u001b[1;33m.\u001b[0m\u001b[0mscan_products\u001b[0m\u001b[1;33m(\u001b[0m\u001b[0murl\u001b[0m\u001b[1;33m,\u001b[0m \u001b[0mrange_price\u001b[0m\u001b[1;33m=\u001b[0m\u001b[0mrange_price\u001b[0m\u001b[1;33m)\u001b[0m\u001b[1;33m\u001b[0m\u001b[1;33m\u001b[0m\u001b[0m\n\u001b[0m\u001b[0;32m     37\u001b[0m \u001b[1;33m\u001b[0m\u001b[0m\n\u001b[0;32m     38\u001b[0m                     temp_df = pd.DataFrame({'name':products_name,\n",
      "\u001b[1;31mTypeError\u001b[0m: scan_products() got an unexpected keyword argument 'range_price'"
     ]
    }
   ],
   "source": [
    "final_df = pd.DataFrame(columns=['name','SKU','price','department','sector'])\n",
    "\n",
    "\n",
    "for department in list(DEPARTMENT_SECTOR.keys()):\n",
    "    print(f'===========================================================|d|\\nscaning department: {department}')\n",
    "\n",
    "    for sector in (DEPARTMENT_SECTOR[department]):\n",
    "        print(f'===============================================|s|\\nscaning sector: {sector}')\n",
    "        all_links = []\n",
    "        \n",
    "        for n in range(len(price_steps)):\n",
    "            if n+1<len(price_steps):\n",
    "                min_price = price_steps[n]\n",
    "                max_price = price_steps[n+1]\n",
    "\n",
    "            print(f'=========|p|\\nscaning prices: {min_price} to {max_price}')\n",
    "\n",
    "            url = scraping_class.URL_TEMPLATE(department=department, sector=sector, page_num=1, min_price=min_price, max_price=max_price)\n",
    "\n",
    "            num_products = scraping_class.scan_num_products(url)\n",
    "            pages_num = int(np.ceil(num_products/28))\n",
    "            if pages_num > 50:\n",
    "                pages_num=50\n",
    "\n",
    "            if pages_num>0:    \n",
    "                for page in range(pages_num):\n",
    "                    page+=1\n",
    "                    print(f'scaning page: {page} of {pages_num}')\n",
    "                    url = scraping_class.URL_TEMPLATE(department=department, sector=sector, page_num=page, min_price=min_price, max_price=max_price)\n",
    "\n",
    "                    products_name, products_price_final, products_sku = scraping_class.scan_products(url)\n",
    "                    \n",
    "                    temp_df = pd.DataFrame({'name':products_name,\n",
    "                                            'SKU':products_sku,\n",
    "                                            'price':products_price_final,\n",
    "                                            'department':[department]*len(products_sku),\n",
    "                                            'sector':[sector]*len(products_sku)})\n",
    "                    final_df = pd.concat([final_df,temp_df]).reset_index(drop=True)\n",
    "\n",
    "        \n"
   ]
  },
  {
   "cell_type": "code",
   "execution_count": 3,
   "metadata": {},
   "outputs": [
    {
     "ename": "NameError",
     "evalue": "name 'final_df' is not defined",
     "output_type": "error",
     "traceback": [
      "\u001b[1;31m---------------------------------------------------------------------------\u001b[0m",
      "\u001b[1;31mNameError\u001b[0m                                 Traceback (most recent call last)",
      "\u001b[1;32m~\\AppData\\Local\\Temp\\ipykernel_2720\\2407084991.py\u001b[0m in \u001b[0;36m<module>\u001b[1;34m\u001b[0m\n\u001b[1;32m----> 1\u001b[1;33m \u001b[0mfinal_df\u001b[0m\u001b[1;33m\u001b[0m\u001b[1;33m\u001b[0m\u001b[0m\n\u001b[0m",
      "\u001b[1;31mNameError\u001b[0m: name 'final_df' is not defined"
     ]
    },
    {
     "ename": "",
     "evalue": "",
     "output_type": "error",
     "traceback": [
      "\u001b[1;31mThe Kernel crashed while executing code in the the current cell or a previous cell. Please review the code in the cell(s) to identify a possible cause of the failure. Click <a href='https://aka.ms/vscodeJupyterKernelCrash'>here</a> for more info. View Jupyter <a href='command:jupyter.viewOutput'>log</a> for further details."
     ]
    },
    {
     "ename": "",
     "evalue": "",
     "output_type": "error",
     "traceback": [
      "\u001b[1;31mThe Kernel crashed while executing code in the the current cell or a previous cell. Please review the code in the cell(s) to identify a possible cause of the failure. Click <a href='https://aka.ms/vscodeJupyterKernelCrash'>here</a> for more info. View Jupyter <a href='command:jupyter.viewOutput'>log</a> for further details."
     ]
    }
   ],
   "source": [
    "final_df"
   ]
  },
  {
   "cell_type": "code",
   "execution_count": 5,
   "metadata": {},
   "outputs": [],
   "source": [
    "final_df.to_csv(\"ri_happy_8.csv\",sep=';', encoding='cp1252')"
   ]
  },
  {
   "cell_type": "code",
   "execution_count": 6,
   "metadata": {},
   "outputs": [],
   "source": [
    "df0 = pd.read_csv('ri_happy_0.csv',sep=',')\n",
    "df1 = pd.read_csv('ri_happy_1.csv',sep=';',  encoding='cp1252')\n",
    "df2 = pd.read_csv('ri_happy_2.csv',sep=';',  encoding='cp1252')\n",
    "df3 = pd.read_csv('ri_happy_3.csv',sep=';',  encoding='cp1252')\n",
    "df4 = pd.read_csv('ri_happy_4.csv',sep=';',  encoding='cp1252')\n",
    "df5 = pd.read_csv('ri_happy_5.csv',sep=';',  encoding='cp1252')\n",
    "df6 = pd.read_csv('ri_happy_6.csv',sep=';',  encoding='cp1252')\n",
    "df7 = pd.read_csv('ri_happy_7.csv',sep=';',  encoding='cp1252')\n",
    "df8 = pd.read_csv('ri_happy_8.csv',sep=';',  encoding='cp1252')\n",
    "\n",
    "final_df = pd.concat([df0,df1,df2,df3,df4,df5,df6,df7,df8],ignore_index=True).reset_index(drop=True)\n"
   ]
  },
  {
   "cell_type": "code",
   "execution_count": 9,
   "metadata": {},
   "outputs": [
    {
     "data": {
      "text/html": [
       "<div>\n",
       "<style scoped>\n",
       "    .dataframe tbody tr th:only-of-type {\n",
       "        vertical-align: middle;\n",
       "    }\n",
       "\n",
       "    .dataframe tbody tr th {\n",
       "        vertical-align: top;\n",
       "    }\n",
       "\n",
       "    .dataframe thead th {\n",
       "        text-align: right;\n",
       "    }\n",
       "</style>\n",
       "<table border=\"1\" class=\"dataframe\">\n",
       "  <thead>\n",
       "    <tr style=\"text-align: right;\">\n",
       "      <th></th>\n",
       "      <th>Unnamed: 0</th>\n",
       "      <th>name</th>\n",
       "      <th>SKU</th>\n",
       "      <th>price</th>\n",
       "      <th>department</th>\n",
       "      <th>sector</th>\n",
       "    </tr>\n",
       "  </thead>\n",
       "  <tbody>\n",
       "    <tr>\n",
       "      <th>1</th>\n",
       "      <td>1</td>\n",
       "      <td>Kit 2 Copos Colors Bico De Silicone Disney Min...</td>\n",
       "      <td>1.002755e+08</td>\n",
       "      <td>39.90</td>\n",
       "      <td>baby</td>\n",
       "      <td>alimentacao-do-bebe</td>\n",
       "    </tr>\n",
       "    <tr>\n",
       "      <th>2</th>\n",
       "      <td>2</td>\n",
       "      <td>Kit 2 Copos Colors Bico De Silicone Disney Mic...</td>\n",
       "      <td>1.002346e+08</td>\n",
       "      <td>39.90</td>\n",
       "      <td>baby</td>\n",
       "      <td>alimentacao-do-bebe</td>\n",
       "    </tr>\n",
       "    <tr>\n",
       "      <th>3</th>\n",
       "      <td>3</td>\n",
       "      <td>Bico NUK - Advanced de Silicone - Todos os Líq...</td>\n",
       "      <td>1.002388e+09</td>\n",
       "      <td>18.90</td>\n",
       "      <td>baby</td>\n",
       "      <td>alimentacao-do-bebe</td>\n",
       "    </tr>\n",
       "    <tr>\n",
       "      <th>6</th>\n",
       "      <td>6</td>\n",
       "      <td>Mordedor - Centopeia Baby - Buba</td>\n",
       "      <td>1.001234e+08</td>\n",
       "      <td>27.53</td>\n",
       "      <td>baby</td>\n",
       "      <td>alimentacao-do-bebe</td>\n",
       "    </tr>\n",
       "    <tr>\n",
       "      <th>7</th>\n",
       "      <td>7</td>\n",
       "      <td>Mamadeira - My First Boy - 300 ml S2 - Tubarão...</td>\n",
       "      <td>1.002785e+08</td>\n",
       "      <td>32.90</td>\n",
       "      <td>baby</td>\n",
       "      <td>alimentacao-do-bebe</td>\n",
       "    </tr>\n",
       "    <tr>\n",
       "      <th>...</th>\n",
       "      <td>...</td>\n",
       "      <td>...</td>\n",
       "      <td>...</td>\n",
       "      <td>...</td>\n",
       "      <td>...</td>\n",
       "      <td>...</td>\n",
       "    </tr>\n",
       "    <tr>\n",
       "      <th>23069</th>\n",
       "      <td>3865</td>\n",
       "      <td>MIni Mochila Escolar Infantil DisneyParks Minn...</td>\n",
       "      <td>1.002632e+09</td>\n",
       "      <td>2642.54</td>\n",
       "      <td>produtos importados</td>\n",
       "      <td>livros-e-papelaria</td>\n",
       "    </tr>\n",
       "    <tr>\n",
       "      <th>23070</th>\n",
       "      <td>3866</td>\n",
       "      <td>Mochila Escolar Infantil Loungefly Disney Minn...</td>\n",
       "      <td>1.002640e+09</td>\n",
       "      <td>2009.35</td>\n",
       "      <td>produtos importados</td>\n",
       "      <td>livros-e-papelaria</td>\n",
       "    </tr>\n",
       "    <tr>\n",
       "      <th>23071</th>\n",
       "      <td>3867</td>\n",
       "      <td>Mochila Escolar Infantil Loungefly Disney Minn...</td>\n",
       "      <td>1.002640e+09</td>\n",
       "      <td>2063.70</td>\n",
       "      <td>produtos importados</td>\n",
       "      <td>livros-e-papelaria</td>\n",
       "    </tr>\n",
       "    <tr>\n",
       "      <th>23072</th>\n",
       "      <td>3868</td>\n",
       "      <td>Painel De Atividades Psicomotor Sensorial De P...</td>\n",
       "      <td>1.002385e+09</td>\n",
       "      <td>2139.90</td>\n",
       "      <td>produtos importados</td>\n",
       "      <td>livros-e-papelaria</td>\n",
       "    </tr>\n",
       "    <tr>\n",
       "      <th>23073</th>\n",
       "      <td>3869</td>\n",
       "      <td>Kit Lapis Profissional com Estojo 126 Peças, A...</td>\n",
       "      <td>1.002675e+09</td>\n",
       "      <td>2130.36</td>\n",
       "      <td>produtos importados</td>\n",
       "      <td>livros-e-papelaria</td>\n",
       "    </tr>\n",
       "  </tbody>\n",
       "</table>\n",
       "<p>22427 rows × 6 columns</p>\n",
       "</div>"
      ],
      "text/plain": [
       "       Unnamed: 0                                               name  \\\n",
       "1               1  Kit 2 Copos Colors Bico De Silicone Disney Min...   \n",
       "2               2  Kit 2 Copos Colors Bico De Silicone Disney Mic...   \n",
       "3               3  Bico NUK - Advanced de Silicone - Todos os Líq...   \n",
       "6               6                  Mordedor - Centopeia Baby - Buba    \n",
       "7               7  Mamadeira - My First Boy - 300 ml S2 - Tubarão...   \n",
       "...           ...                                                ...   \n",
       "23069        3865  MIni Mochila Escolar Infantil DisneyParks Minn...   \n",
       "23070        3866  Mochila Escolar Infantil Loungefly Disney Minn...   \n",
       "23071        3867  Mochila Escolar Infantil Loungefly Disney Minn...   \n",
       "23072        3868  Painel De Atividades Psicomotor Sensorial De P...   \n",
       "23073        3869  Kit Lapis Profissional com Estojo 126 Peças, A...   \n",
       "\n",
       "                SKU    price           department               sector  \n",
       "1      1.002755e+08    39.90                 baby  alimentacao-do-bebe  \n",
       "2      1.002346e+08    39.90                 baby  alimentacao-do-bebe  \n",
       "3      1.002388e+09    18.90                 baby  alimentacao-do-bebe  \n",
       "6      1.001234e+08    27.53                 baby  alimentacao-do-bebe  \n",
       "7      1.002785e+08    32.90                 baby  alimentacao-do-bebe  \n",
       "...             ...      ...                  ...                  ...  \n",
       "23069  1.002632e+09  2642.54  produtos importados   livros-e-papelaria  \n",
       "23070  1.002640e+09  2009.35  produtos importados   livros-e-papelaria  \n",
       "23071  1.002640e+09  2063.70  produtos importados   livros-e-papelaria  \n",
       "23072  1.002385e+09  2139.90  produtos importados   livros-e-papelaria  \n",
       "23073  1.002675e+09  2130.36  produtos importados   livros-e-papelaria  \n",
       "\n",
       "[22427 rows x 6 columns]"
      ]
     },
     "execution_count": 9,
     "metadata": {},
     "output_type": "execute_result"
    }
   ],
   "source": [
    "final_df.dropna(subset='SKU')"
   ]
  },
  {
   "cell_type": "code",
   "execution_count": 12,
   "metadata": {},
   "outputs": [],
   "source": [
    "final_df.drop('Unnamed: 0',axis=1).to_csv(\"ri_happy.csv\",sep=';', encoding='cp1252')"
   ]
  },
  {
   "cell_type": "code",
   "execution_count": null,
   "metadata": {},
   "outputs": [],
   "source": []
  }
 ],
 "metadata": {
  "kernelspec": {
   "display_name": "base",
   "language": "python",
   "name": "python3"
  },
  "language_info": {
   "codemirror_mode": {
    "name": "ipython",
    "version": 3
   },
   "file_extension": ".py",
   "mimetype": "text/x-python",
   "name": "python",
   "nbconvert_exporter": "python",
   "pygments_lexer": "ipython3",
   "version": "3.9.7"
  },
  "orig_nbformat": 4
 },
 "nbformat": 4,
 "nbformat_minor": 2
}
